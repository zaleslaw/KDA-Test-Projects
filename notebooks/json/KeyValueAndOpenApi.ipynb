{
 "cells": [
  {
   "metadata": {
    "ExecuteTime": {
     "end_time": "2025-09-11T13:23:26.381555200Z",
     "start_time": "2025-09-11T13:19:45.958779600Z"
    }
   },
   "cell_type": "code",
   "source": [
    "%useLatestDescriptors\n",
    "%use dataframe@dfb3(enableExperimentalOpenApi=true)\n",
    "%use kandy@dfb3\n",
    "// Add both Kandy-Geo and DataFrame-Geo,\n",
    "// as well as base Kandy and Kotlin DataFrame\n",
    "%use kandy-geo@dfb3"
   ],
   "outputs": [
    {
     "name": "stdout",
     "output_type": "stream",
     "text": [
      "Enabling experimental OpenAPI 3.0.0 module: dataframe-openapi\r\n"
     ]
    }
   ],
   "execution_count": 1
  },
  {
   "metadata": {},
   "cell_type": "markdown",
   "source": [
    "We can read DataFrames from JSON, but since JSON doesn't have any types, DataFrame has make its best guess as to which objects have which attributes and how they relate to each other. While this works in most simple cases, for more complex JSON APIs, this might break down.\n",
    "One of the cases where normal JSON reading breaks down is in the API of [apis.guru](apis.guru), a website which collects OpenAPI APIs."
   ]
  },
  {
   "metadata": {
    "tags": [
     "skiptest"
    ],
    "ExecuteTime": {
     "start_time": "2025-09-11T13:30:55.430940700Z"
    }
   },
   "cell_type": "code",
   "source": "DataFrame.read(\"api_guru_list.json\")",
   "outputs": [],
   "execution_count": null
  },
  {
   "cell_type": "markdown",
   "source": [
    "As you can see, since this API provides its data in a key/value fashion, we get a DataFrame of 2000+ columns, this is very difficult to work with. Actually, it's impossible. Assigning this result to a variable results in OOM errors, as we simply don't have the memory to generate all accessors for all columns.\n",
    "\n",
    "To solve this, we could perform a"
   ],
   "metadata": {
    "collapsed": false
   }
  },
  {
   "metadata": {
    "tags": [
     "skiptest"
    ]
   },
   "cell_type": "code",
   "source": [
    "DataFrame.read(\"api_guru_list.json\")\n",
    "    .gather { all() }\n",
    "    .into(\"key\", \"value\")"
   ],
   "outputs": [],
   "execution_count": null
  },
  {
   "cell_type": "markdown",
   "source": [
    "This converts the DataFrame such that it has a column \"key\" containing the previous column names and a column \"value\" containing, well, the values. One downside, however, is that `gather {}` fills in the \"missing\" values with `null` which gives each `versions` column all the version numbers of all APIs, filled in with empty values. This again is difficult to work with...\n",
    "\n",
    "Specifically for this case, we provide a new feature for reading JSON: Key/Value paths!\n",
    "In this data, two paths can be seen as key/value objects: The top level object (represented as '&#0036;'), and the `versions` (represented as '&#0036;[*][\"versions\"]')."
   ],
   "metadata": {
    "collapsed": false
   }
  },
  {
   "metadata": {},
   "cell_type": "code",
   "source": [
    "val _df1 = DataFrame.readJson(\n",
    "    path = \"api_guru_list.json\",\n",
    "    keyValuePaths = listOf(\n",
    "        JsonPath(),\n",
    "        JsonPath().appendWildcard().append(\"versions\"),\n",
    "    ),\n",
    ")\n",
    "_df1"
   ],
   "outputs": [],
   "execution_count": null
  },
  {
   "cell_type": "markdown",
   "source": [
    "Key/value objects are wrapped in a dataframe (to have a working hierarchy).\n",
    "Since we convert the top-level object to key/value we need to unpack it to see the result."
   ],
   "metadata": {
    "collapsed": false
   }
  },
  {
   "cell_type": "code",
   "source": [
    "val df1 = _df1.value.first()\n",
    "df1"
   ],
   "metadata": {
    "collapsed": false
   },
   "outputs": [],
   "execution_count": null
  },
  {
   "cell_type": "markdown",
   "source": [
    "Now, for this specific example it works, but admittedly it was a bit of a hassle, don't you think?\n",
    "Plus, columns like \"added\" are still just Strings, while clearly, it should be Date objects.\n",
    "\n",
    "Now, you could write your own `@DataSchema` and read methods, but as it happens, ApiGuru has an OpenAPI declaration which includes all the type schemas the JSON will adhere to!\n",
    "\n",
    "This OpenAPI declaration contains all URLs the API provides, as well as the types of data those calls will return. OpenAPI declarations can be explored often on the API provider or, for instance, in IntelliJ.\n",
    "From exploring the OpenAPI spec from Apis.guru we see that `/list.json` returns an `APIs` type and other types include `API`, `ApiVersion`, and `Metrics`.\n",
    "\n",
    "In Jupyter we can generate these types easily:"
   ],
   "metadata": {
    "collapsed": false
   }
  },
  {
   "cell_type": "code",
   "source": [
    "val ApiGuru = importDataSchema(File(\"ApiGuruOpenApi.yaml\"))"
   ],
   "metadata": {
    "collapsed": false
   },
   "outputs": [],
   "execution_count": null
  },
  {
   "cell_type": "markdown",
   "source": [
    "And then we can directly read the JSON as one of the types:"
   ],
   "metadata": {
    "collapsed": false
   }
  },
  {
   "metadata": {},
   "cell_type": "code",
   "source": [
    "val df2 = ApiGuru.APIs.readJson(\"api_guru_list.json\")\n",
    "\n",
    "df2"
   ],
   "outputs": [],
   "execution_count": null
  },
  {
   "metadata": {},
   "cell_type": "code",
   "source": "df2.schema()",
   "outputs": [],
   "execution_count": null
  },
  {
   "cell_type": "markdown",
   "source": [
    "As you can see, we've successfully read and converted the JSON to the correct types (including key/values and correct nullability!) using a foolproof method. Go ahead and explore the data a bit more if you feel like it!"
   ],
   "metadata": {
    "collapsed": false
   }
  },
  {
   "cell_type": "code",
   "source": [
    "// For instance: filter the APIs for having recent updates.\n",
    "df2.filter {\n",
    "  value.versions.value.any {\n",
    "    (updated ?: added).year >= 2021\n",
    "  }\n",
    "}"
   ],
   "metadata": {
    "collapsed": false
   },
   "outputs": [],
   "execution_count": null
  },
  {
   "cell_type": "markdown",
   "source": [
    "Other schemas can be read directly as well."
   ],
   "metadata": {
    "collapsed": false
   }
  },
  {
   "metadata": {},
   "cell_type": "code",
   "source": [
    "val df3 = ApiGuru.Metrics.readJson(\"apiGuruMetrics.json\")\n",
    "df3"
   ],
   "outputs": [],
   "execution_count": null
  }
 ],
 "metadata": {
  "kernelspec": {
   "display_name": "Kotlin",
   "language": "kotlin",
   "name": "kotlin"
  },
  "language_info": {
   "name": "kotlin",
   "version": "1.8.0-dev-3517",
   "mimetype": "text/x-kotlin",
   "file_extension": ".kt",
   "pygments_lexer": "kotlin",
   "codemirror_mode": "text/x-kotlin",
   "nbconvert_exporter": ""
  },
  "ktnbPluginMetadata": {
   "projectLibraries": []
  }
 },
 "nbformat": 4,
 "nbformat_minor": 0
}
